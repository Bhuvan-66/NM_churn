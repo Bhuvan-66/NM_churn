{
  "nbformat": 4,
  "nbformat_minor": 0,
  "metadata": {
    "colab": {
      "provenance": [],
      "authorship_tag": "ABX9TyMMxNhCwh3Vyqis6eJGNe/n",
      "include_colab_link": true
    },
    "kernelspec": {
      "name": "python3",
      "display_name": "Python 3"
    },
    "language_info": {
      "name": "python"
    }
  },
  "cells": [
    {
      "cell_type": "markdown",
      "metadata": {
        "id": "view-in-github",
        "colab_type": "text"
      },
      "source": [
        "<a href=\"https://colab.research.google.com/github/Bhuvan-66/NM_churn/blob/main/sms_spam.ipynb\" target=\"_parent\"><img src=\"https://colab.research.google.com/assets/colab-badge.svg\" alt=\"Open In Colab\"/></a>"
      ]
    },
    {
      "cell_type": "code",
      "source": [
        "# ✅ Step 1: Import libraries\n",
        "import pandas as pd\n",
        "import re\n",
        "import nltk\n",
        "from sklearn.model_selection import train_test_split\n",
        "from sklearn.feature_extraction.text import TfidfVectorizer\n",
        "from sklearn.naive_bayes import MultinomialNB\n",
        "from sklearn.metrics import accuracy_score, classification_report\n",
        "\n",
        "# Download stopwords\n",
        "nltk.download('stopwords')\n",
        "from nltk.corpus import stopwords\n",
        "stop_words = set(stopwords.words('english'))\n",
        "\n",
        "# ✅ Step 2: Load dataset (correct columns)\n",
        "df = pd.read_csv('/content/spam.csv', encoding='latin1')\n",
        "\n",
        "# Keep only first two useful columns and rename them\n",
        "df = df[['v1', 'v2']].rename(columns={'v1': 'label', 'v2': 'message'})\n",
        "df = df.dropna()  # remove any empty rows\n",
        "\n",
        "print(\"✅ Dataset loaded successfully!\")\n",
        "print(df.head())\n",
        "\n",
        "# ✅ Step 3: Clean the text\n",
        "def clean_text(text):\n",
        "    text = str(text).lower()\n",
        "    text = re.sub(r'http\\S+|www\\S+', '', text)   # remove URLs\n",
        "    text = re.sub(r'[^a-z\\s]', ' ', text)        # keep only alphabets\n",
        "    text = re.sub(r'\\s+', ' ', text).strip()     # remove extra spaces\n",
        "    return text\n",
        "\n",
        "df['clean_message'] = df['message'].apply(clean_text)\n",
        "\n",
        "# ✅ Step 4: Encode labels\n",
        "df['label_num'] = df['label'].map({'ham': 0, 'spam': 1})\n",
        "\n",
        "# ✅ Step 5: Split dataset\n",
        "X_train, X_test, y_train, y_test = train_test_split(\n",
        "    df['clean_message'], df['label_num'], test_size=0.2, random_state=42\n",
        ")\n",
        "\n",
        "# ✅ Step 6: TF-IDF Vectorization\n",
        "vectorizer = TfidfVectorizer(stop_words='english', max_features=3000)\n",
        "X_train_vec = vectorizer.fit_transform(X_train)\n",
        "X_test_vec = vectorizer.transform(X_test)\n",
        "\n",
        "# ✅ Step 7: Train the model\n",
        "model = MultinomialNB()\n",
        "model.fit(X_train_vec, y_train)\n",
        "print(\"\\n✅ Model training completed!\")\n",
        "\n",
        "# ✅ Step 8: Evaluate\n",
        "y_pred = model.predict(X_test_vec)\n",
        "print(\"\\n📊 Model Evaluation:\")\n",
        "print(\"Accuracy:\", round(accuracy_score(y_test, y_pred)*100, 2), \"%\")\n",
        "print(\"\\n\", classification_report(y_test, y_pred))\n",
        "\n",
        "# ✅ Step 9: Interactive input\n",
        "print(\"\\n--- SMS Spam Checker ---\")\n",
        "while True:\n",
        "    msg = input(\"Enter an SMS (or 'exit' to quit): \")\n",
        "    if msg.lower() == 'exit':\n",
        "        print(\"Exiting... 👋\")\n",
        "        break\n",
        "    clean_msg = clean_text(msg)\n",
        "    vec = vectorizer.transform([clean_msg])\n",
        "    prob = model.predict_proba(vec)[0][1]  # spam probability\n",
        "    print(\"Spam Probability:\", round(prob*100, 2), \"%\")\n",
        "    pred = model.predict(vec)[0]\n",
        "    print(\"Result:\", \"🚨 Spam 🚨\" if pred == 1 else \"✅ Not Spam (Ham)\")\n",
        "    print(\"-\" * 40)\n"
      ],
      "metadata": {
        "colab": {
          "base_uri": "https://localhost:8080/"
        },
        "id": "QDJrykS0J1nB",
        "outputId": "caf4d2aa-9e6d-40a8-df22-8275f5fbcde0"
      },
      "execution_count": 9,
      "outputs": [
        {
          "output_type": "stream",
          "name": "stderr",
          "text": [
            "[nltk_data] Downloading package stopwords to /root/nltk_data...\n",
            "[nltk_data]   Package stopwords is already up-to-date!\n"
          ]
        },
        {
          "output_type": "stream",
          "name": "stdout",
          "text": [
            "✅ Dataset loaded successfully!\n",
            "  label                                            message\n",
            "0   ham  Go until jurong point, crazy.. Available only ...\n",
            "1   ham                      Ok lar... Joking wif u oni...\n",
            "2  spam  Free entry in 2 a wkly comp to win FA Cup fina...\n",
            "3   ham  U dun say so early hor... U c already then say...\n",
            "4   ham  Nah I don't think he goes to usf, he lives aro...\n",
            "\n",
            "✅ Model training completed!\n",
            "\n",
            "📊 Model Evaluation:\n",
            "Accuracy: 97.49 %\n",
            "\n",
            "               precision    recall  f1-score   support\n",
            "\n",
            "           0       0.97      1.00      0.99       965\n",
            "           1       1.00      0.81      0.90       150\n",
            "\n",
            "    accuracy                           0.97      1115\n",
            "   macro avg       0.99      0.91      0.94      1115\n",
            "weighted avg       0.98      0.97      0.97      1115\n",
            "\n",
            "\n",
            "--- SMS Spam Checker ---\n",
            "Enter an SMS (or 'exit' to quit): congratulation you won a free ticket\n",
            "Spam Probability: 39.29 %\n",
            "Result: ✅ Not Spam (Ham)\n",
            "----------------------------------------\n",
            "Enter an SMS (or 'exit' to quit): congratulation you won a 10000 rs\n",
            "Spam Probability: 20.54 %\n",
            "Result: ✅ Not Spam (Ham)\n",
            "----------------------------------------\n",
            "Enter an SMS (or 'exit' to quit): spam\n",
            "Spam Probability: 13.39 %\n",
            "Result: ✅ Not Spam (Ham)\n",
            "----------------------------------------\n",
            "Enter an SMS (or 'exit' to quit): You’ve won ₹10,000! Click here to claim\n",
            "Spam Probability: 70.4 %\n",
            "Result: 🚨 Spam 🚨\n",
            "----------------------------------------\n",
            "Enter an SMS (or 'exit' to quit): Hey, what time is the class tomorrow?\n",
            "Spam Probability: 0.39 %\n",
            "Result: ✅ Not Spam (Ham)\n",
            "----------------------------------------\n",
            "Enter an SMS (or 'exit' to quit): Congratulations, you’ve been selected for a free gift!\n",
            "Spam Probability: 69.77 %\n",
            "Result: 🚨 Spam 🚨\n",
            "----------------------------------------\n",
            "Enter an SMS (or 'exit' to quit): exit\n",
            "Exiting... 👋\n"
          ]
        }
      ]
    },
    {
      "cell_type": "code",
      "source": [],
      "metadata": {
        "id": "upOXjzXuJ11F"
      },
      "execution_count": null,
      "outputs": []
    },
    {
      "cell_type": "code",
      "source": [],
      "metadata": {
        "id": "E_FULFKbJ14d"
      },
      "execution_count": null,
      "outputs": []
    }
  ]
}